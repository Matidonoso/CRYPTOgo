{
  "nbformat": 4,
  "nbformat_minor": 0,
  "metadata": {
    "colab": {
      "name": "CRYPTOgo.ipynb",
      "provenance": [],
      "collapsed_sections": [],
      "include_colab_link": true
    },
    "kernelspec": {
      "name": "python3",
      "display_name": "Python 3"
    },
    "accelerator": "GPU"
  },
  "cells": [
    {
      "cell_type": "markdown",
      "metadata": {
        "id": "view-in-github",
        "colab_type": "text"
      },
      "source": [
        "<a href=\"https://colab.research.google.com/github/Matidonoso/CRYPTOgo/blob/master/CRYPTOgo.ipynb\" target=\"_parent\"><img src=\"https://colab.research.google.com/assets/colab-badge.svg\" alt=\"Open In Colab\"/></a>"
      ]
    },
    {
      "cell_type": "code",
      "metadata": {
        "id": "k8qP3i-R9tLe",
        "colab_type": "code",
        "colab": {}
      },
      "source": [
        "%tensorflow_version 2.x\n",
        "\n",
        "import json\n",
        "import requests\n",
        "from tensorflow.keras.models import Sequential\n",
        "from tensorflow.keras.layers import Activation, Dense, Dropout, LSTM\n",
        "import matplotlib.pyplot as plt\n",
        "import numpy as np\n",
        "import pandas as pd\n",
        "import seaborn as sns\n",
        "from sklearn.metrics import mean_absolute_error\n",
        "%matplotlib inline\n",
        "######################\n",
        "import os\n",
        "import numpy as np\n",
        "import tensorflow as tf\n",
        "from tensorflow import keras\n",
        "import pandas as pd\n",
        "import seaborn as sns\n",
        "from pylab import rcParams\n",
        "import matplotlib.pyplot as plt\n",
        "from matplotlib import rc\n",
        "from sklearn.preprocessing import MinMaxScaler\n",
        "from tensorflow.keras.layers import Bidirectional, Dropout, Activation, Dense, LSTM\n",
        "from tensorflow.python.keras.layers import CuDNNLSTM\n",
        "from tensorflow.keras.models import Sequential"
      ],
      "execution_count": 0,
      "outputs": []
    },
    {
      "cell_type": "markdown",
      "metadata": {
        "id": "RHIbCaRDt3mR",
        "colab_type": "text"
      },
      "source": [
        "https://www.cryptocompare.com/coins/guides/how-to-use-our-api/"
      ]
    },
    {
      "cell_type": "code",
      "metadata": {
        "id": "TKIqAlbj6Xw9",
        "colab_type": "code",
        "outputId": "4c1d44ba-dfba-4a23-d601-49184f10d4ff",
        "colab": {
          "base_uri": "https://localhost:8080/",
          "height": 299
        }
      },
      "source": [
        "from google.colab import drive\n",
        "drive.mount(\"mnt\")"
      ],
      "execution_count": 0,
      "outputs": [
        {
          "output_type": "error",
          "ename": "ValueError",
          "evalue": "ignored",
          "traceback": [
            "\u001b[0;31m---------------------------------------------------------------------------\u001b[0m",
            "\u001b[0;31mValueError\u001b[0m                                Traceback (most recent call last)",
            "\u001b[0;32m<ipython-input-34-6096bfd7a1f6>\u001b[0m in \u001b[0;36m<module>\u001b[0;34m()\u001b[0m\n\u001b[1;32m      1\u001b[0m \u001b[0;32mfrom\u001b[0m \u001b[0mgoogle\u001b[0m\u001b[0;34m.\u001b[0m\u001b[0mcolab\u001b[0m \u001b[0;32mimport\u001b[0m \u001b[0mdrive\u001b[0m\u001b[0;34m\u001b[0m\u001b[0;34m\u001b[0m\u001b[0m\n\u001b[0;32m----> 2\u001b[0;31m \u001b[0mdrive\u001b[0m\u001b[0;34m.\u001b[0m\u001b[0mmount\u001b[0m\u001b[0;34m(\u001b[0m\u001b[0;34m\"mnt\"\u001b[0m\u001b[0;34m)\u001b[0m\u001b[0;34m\u001b[0m\u001b[0;34m\u001b[0m\u001b[0m\n\u001b[0m",
            "\u001b[0;32m/usr/local/lib/python3.6/dist-packages/google/colab/drive.py\u001b[0m in \u001b[0;36mmount\u001b[0;34m(mountpoint, force_remount, timeout_ms, use_metadata_server)\u001b[0m\n\u001b[1;32m    231\u001b[0m             \u001b[0;34m': timeout during initial read of root folder; for more info: '\u001b[0m\u001b[0;34m\u001b[0m\u001b[0;34m\u001b[0m\u001b[0m\n\u001b[1;32m    232\u001b[0m             'https://research.google.com/colaboratory/faq.html#drive-timeout')\n\u001b[0;32m--> 233\u001b[0;31m       \u001b[0;32mraise\u001b[0m \u001b[0mValueError\u001b[0m\u001b[0;34m(\u001b[0m\u001b[0;34m'mount failed'\u001b[0m \u001b[0;34m+\u001b[0m \u001b[0mextra_reason\u001b[0m\u001b[0;34m)\u001b[0m\u001b[0;34m\u001b[0m\u001b[0;34m\u001b[0m\u001b[0m\n\u001b[0m\u001b[1;32m    234\u001b[0m     \u001b[0;32melif\u001b[0m \u001b[0mcase\u001b[0m \u001b[0;34m==\u001b[0m \u001b[0;36m2\u001b[0m\u001b[0;34m:\u001b[0m\u001b[0;34m\u001b[0m\u001b[0;34m\u001b[0m\u001b[0m\n\u001b[1;32m    235\u001b[0m       \u001b[0;31m# Not already authorized, so do the authorization dance.\u001b[0m\u001b[0;34m\u001b[0m\u001b[0;34m\u001b[0m\u001b[0;34m\u001b[0m\u001b[0m\n",
            "\u001b[0;31mValueError\u001b[0m: mount failed"
          ]
        }
      ]
    },
    {
      "cell_type": "code",
      "metadata": {
        "id": "MZeXjBR8-H2g",
        "colab_type": "code",
        "colab": {}
      },
      "source": [
        "%cd \"mnt/My Drive/Startup School 2020/RAIs/RAIs 2020-1/Proyectos/Fintech\""
      ],
      "execution_count": 0,
      "outputs": []
    },
    {
      "cell_type": "code",
      "metadata": {
        "id": "QmxopmbR_MnF",
        "colab_type": "code",
        "colab": {}
      },
      "source": [
        "!pip install import-ipynb\n",
        "import import_ipynb"
      ],
      "execution_count": 0,
      "outputs": []
    },
    {
      "cell_type": "code",
      "metadata": {
        "id": "NrISAeFI_O_Q",
        "colab_type": "code",
        "colab": {}
      },
      "source": [
        "import fetch_market_data\n",
        "\n",
        "TIME_DELTA = 1\n",
        "hours = 80 * 24 #DAYS PER HOURS"
      ],
      "execution_count": 0,
      "outputs": []
    },
    {
      "cell_type": "code",
      "metadata": {
        "id": "QQEmG8A9ck3j",
        "colab_type": "code",
        "colab": {}
      },
      "source": [
        "def plot_close_price(dataframe):\n",
        "  \n",
        "  ax = dataframe.plot(y='close')\n",
        "  ax.set_xlabel(\"Time\"),\n",
        "  ax.set_ylabel(\"Close Price (USD)\")\n"
      ],
      "execution_count": 0,
      "outputs": []
    },
    {
      "cell_type": "code",
      "metadata": {
        "id": "CsJcaClp7mBe",
        "colab_type": "code",
        "colab": {}
      },
      "source": [
        "#BITCOIN DATAFRAME & PLOT\n",
        "BTC_DF = fetch_market_data.get_historical_hourly_price('BTC', 'USD', hours, TIME_DELTA)\n",
        "plot_close_price(BTC_DF)"
      ],
      "execution_count": 0,
      "outputs": []
    },
    {
      "cell_type": "code",
      "metadata": {
        "id": "d1WAtCfO7m1J",
        "colab_type": "code",
        "colab": {}
      },
      "source": [
        "#ETHEREUM DATAFRAME & PLOT\n",
        "ETH_DF = fetch_market_data.get_historical_hourly_price('ETH', 'USD', hours, TIME_DELTA)\n",
        "\n",
        "plot_close_price(ETH_DF)"
      ],
      "execution_count": 0,
      "outputs": []
    },
    {
      "cell_type": "code",
      "metadata": {
        "id": "Ygmz7giF7m7p",
        "colab_type": "code",
        "colab": {}
      },
      "source": [
        "#STELLAR DATAFRAME & PLOT\n",
        "XLM_DF = fetch_market_data.get_historical_hourly_price('XLM', 'USD', hours, TIME_DELTA)\n",
        "\n",
        "plot_close_price(XLM_DF)"
      ],
      "execution_count": 0,
      "outputs": []
    },
    {
      "cell_type": "markdown",
      "metadata": {
        "id": "kexI2jknYecW",
        "colab_type": "text"
      },
      "source": [
        "# **Normalization**"
      ]
    },
    {
      "cell_type": "code",
      "metadata": {
        "id": "2Q2wIkMNYcMZ",
        "colab_type": "code",
        "colab": {}
      },
      "source": [
        "# We’re going to use the MinMaxScaler from scikit learn:\n",
        "scaler = MinMaxScaler()\n",
        "\n",
        "def normalization(dataframe):\n",
        "\n",
        "  # The scaler expects the data to be shaped as (x, y), so we add a dummy dimension using reshape before applying it.\n",
        "  close_price = dataframe.close.values.reshape(-1,1)\n",
        "\n",
        "  scaled_close = scaler.fit_transform(close_price)\n",
        "\n",
        "  # Let’s also remove NaNs since our model won’t be able to handle them well\n",
        "  scaled_close = scaled_close[~np.isnan(scaled_close)]\n",
        "  \n",
        "  scaled_close = scaled_close.reshape(-1, 1)\n",
        "\n",
        "  return scaled_close\n",
        "\n"
      ],
      "execution_count": 0,
      "outputs": []
    },
    {
      "cell_type": "code",
      "metadata": {
        "id": "_b7D7M2lZV2R",
        "colab_type": "code",
        "colab": {}
      },
      "source": [
        "#BITCOIN NORMALIZATION\n",
        "BTC_DF = normalization(BTC_DF)"
      ],
      "execution_count": 0,
      "outputs": []
    },
    {
      "cell_type": "code",
      "metadata": {
        "id": "k8VPNBKPZVUo",
        "colab_type": "code",
        "colab": {}
      },
      "source": [
        "#ETHEREUM NORMALIZATION\n",
        "ETH_DF = normalization(ETH_DF)"
      ],
      "execution_count": 0,
      "outputs": []
    },
    {
      "cell_type": "code",
      "metadata": {
        "id": "6KZkcHJyRKSp",
        "colab_type": "code",
        "colab": {}
      },
      "source": [
        "#STELLAR NORMALIZATION\n",
        "XLM_DF = normalization(XLM_DF)"
      ],
      "execution_count": 0,
      "outputs": []
    },
    {
      "cell_type": "markdown",
      "metadata": {
        "id": "srwSoe-Iagjm",
        "colab_type": "text"
      },
      "source": [
        "# **Preprocessing**\n"
      ]
    },
    {
      "cell_type": "code",
      "metadata": {
        "id": "bpCEl2kqT9-Q",
        "colab_type": "code",
        "colab": {}
      },
      "source": [
        "SEQ_LEN = 100\n",
        "\n",
        "def to_sequences(data, seq_len):\n",
        "    d = []\n",
        "\n",
        "    for index in range(len(data) - seq_len):\n",
        "        d.append(data[index: index + seq_len])\n",
        "\n",
        "    return np.array(d)\n",
        "\n",
        "def preprocess(data_raw, seq_len, train_split):\n",
        "\n",
        "    data = to_sequences(data_raw, seq_len)\n",
        "\n",
        "    num_train = int(train_split * data.shape[0])\n",
        "\n",
        "    X_train = data[:num_train, :-1, :]\n",
        "    y_train = data[:num_train, -1, :]\n",
        "\n",
        "    X_test = data[num_train:, :-1, :]\n",
        "    y_test = data[num_train:, -1, :]\n",
        "\n",
        "    return X_train, y_train, X_test, y_test\n",
        "\n",
        "\n",
        "X_train, y_train, X_test, y_test =\\\n",
        "preprocess(XLM_DF, SEQ_LEN, train_split = 0.95)"
      ],
      "execution_count": 0,
      "outputs": []
    },
    {
      "cell_type": "markdown",
      "metadata": {
        "id": "iBVO0qiBerwI",
        "colab_type": "text"
      },
      "source": [
        "# **Model**"
      ]
    },
    {
      "cell_type": "code",
      "metadata": {
        "id": "vqafm-MxWW-r",
        "colab_type": "code",
        "colab": {}
      },
      "source": [
        "DROPOUT = 0.2\n",
        "WINDOW_SIZE = SEQ_LEN - 1\n",
        "\n",
        "def build_model(X_train, DROPOUT, WINDOW_SIZE):\n",
        "\n",
        "  model = keras.Sequential()\n",
        "\n",
        "  model.add(Bidirectional(CuDNNLSTM(WINDOW_SIZE, return_sequences=True),\n",
        "                          input_shape=(WINDOW_SIZE, X_train.shape[-1])))\n",
        "  model.add(Dropout(rate=DROPOUT))\n",
        "\n",
        "  model.add(Bidirectional(CuDNNLSTM((WINDOW_SIZE * 2), return_sequences=True)))\n",
        "  model.add(Dropout(rate=DROPOUT))\n",
        "\n",
        "  model.add(Bidirectional(CuDNNLSTM(WINDOW_SIZE, return_sequences=False)))\n",
        "\n",
        "  model.add(Dense(units=1))\n",
        "\n",
        "  model.add(Activation('linear'))\n",
        "\n",
        "  return model"
      ],
      "execution_count": 0,
      "outputs": []
    },
    {
      "cell_type": "markdown",
      "metadata": {
        "id": "zFs6DSHzevrb",
        "colab_type": "text"
      },
      "source": [
        "# **Training**"
      ]
    },
    {
      "cell_type": "code",
      "metadata": {
        "id": "J1t82f0DWY4B",
        "colab_type": "code",
        "colab": {}
      },
      "source": [
        "BATCH_SIZE = 64\n",
        "\n",
        "def compile_and_train(X_train, y_train, BATCH_SIZE):\n",
        "  model.compile(\n",
        "      loss='mean_squared_error',\n",
        "      optimizer='adam'\n",
        "  )\n",
        "\n",
        "  history = model.fit(\n",
        "      X_train,\n",
        "      y_train,\n",
        "      epochs=50,\n",
        "      batch_size=BATCH_SIZE,\n",
        "      shuffle=False,\n",
        "      validation_split=0.1\n",
        "  )\n",
        "\n",
        "  return history"
      ],
      "execution_count": 0,
      "outputs": []
    },
    {
      "cell_type": "code",
      "metadata": {
        "id": "CYOfKafNfDkT",
        "colab_type": "code",
        "colab": {}
      },
      "source": [
        "model.evaluate(X_test, y_test)"
      ],
      "execution_count": 0,
      "outputs": []
    },
    {
      "cell_type": "code",
      "metadata": {
        "id": "XSJC9F6PfFmV",
        "colab_type": "code",
        "colab": {}
      },
      "source": [
        "plt.plot(history.history['loss'])\n",
        "plt.plot(history.history['val_loss'])\n",
        "plt.title('model loss')\n",
        "plt.ylabel('loss')\n",
        "plt.xlabel('epoch')\n",
        "plt.legend(['train', 'test'], loc='upper left')\n",
        "plt.show()"
      ],
      "execution_count": 0,
      "outputs": []
    },
    {
      "cell_type": "markdown",
      "metadata": {
        "id": "pdJjzE44fJdV",
        "colab_type": "text"
      },
      "source": [
        "# **Prediction**"
      ]
    },
    {
      "cell_type": "code",
      "metadata": {
        "id": "SeNZ6r1mfIFW",
        "colab_type": "code",
        "colab": {}
      },
      "source": [
        "\n",
        "def prediction(X_test , y_test , crypto):\n",
        "  y_hat = model.predict(X_test)\n",
        "\n",
        "  y_test_inverse = scaler.inverse_transform(y_test)\n",
        "  y_hat_inverse = scaler.inverse_transform(y_hat)\n",
        "  \n",
        "  plt.plot(y_test_inverse, label=\"Actual Price\", color='green')\n",
        "  plt.plot(y_hat_inverse, label=\"Predicted Price\", color='red')\n",
        "  \n",
        "  plt.title('{} price prediction'.format(crypto))\n",
        "  plt.xlabel('Hours')\n",
        "  plt.ylabel('Price')\n",
        "  plt.legend(loc='best')\n",
        "  \n",
        "  return plt.show();"
      ],
      "execution_count": 0,
      "outputs": []
    },
    {
      "cell_type": "markdown",
      "metadata": {
        "id": "UXl3F3NHwvIz",
        "colab_type": "text"
      },
      "source": [
        "# UI express\n"
      ]
    },
    {
      "cell_type": "code",
      "metadata": {
        "id": "CNQ3O7IbwxSZ",
        "colab_type": "code",
        "outputId": "5a405023-2366-4aa9-fb62-0399db834022",
        "colab": {
          "base_uri": "https://localhost:8080/",
          "height": 53
        }
      },
      "source": [
        "print(\"What Cryptocurrency do you want to predict? (BTC, ETH, XLM)\")\n",
        "request = input()\n",
        "print('You requested: {}'.format(request))\n",
        "\n",
        "user_request = fetch_market_data.get_historical_hourly_price(request, 'USD', hours, TIME_DELTA)\n",
        "plot_close_price(user_request)\n",
        "u_r = normalization(user_request)\n",
        "preprocess(u_r, SEQ_LEN, train_split = 0.95)\n",
        "build_model(X_train,DROPOUT,WINDOW_SIZE)\n",
        "compile_and_train(X_train, y_train)\n",
        "prediction(X_test,y_test,request)\n"
      ],
      "execution_count": 0,
      "outputs": [
        {
          "output_type": "stream",
          "text": [
            "What Cryptocurrency do you want to predict? (BTC, ETH, XLM)\n"
          ],
          "name": "stdout"
        }
      ]
    },
    {
      "cell_type": "code",
      "metadata": {
        "id": "Kx9rvtLGwx25",
        "colab_type": "code",
        "colab": {}
      },
      "source": [
        ""
      ],
      "execution_count": 0,
      "outputs": []
    }
  ]
}