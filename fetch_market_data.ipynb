{
  "nbformat": 4,
  "nbformat_minor": 0,
  "metadata": {
    "colab": {
      "name": "fetch_market_data.ipynb",
      "provenance": [],
      "collapsed_sections": [],
      "include_colab_link": true
    },
    "kernelspec": {
      "name": "python3",
      "display_name": "Python 3"
    },
    "accelerator": "GPU"
  },
  "cells": [
    {
      "cell_type": "markdown",
      "metadata": {
        "id": "view-in-github",
        "colab_type": "text"
      },
      "source": [
        "<a href=\"https://colab.research.google.com/github/Matidonoso/CRYPTOgo/blob/master/fetch_market_data.ipynb\" target=\"_parent\"><img src=\"https://colab.research.google.com/assets/colab-badge.svg\" alt=\"Open In Colab\"/></a>"
      ]
    },
    {
      "cell_type": "code",
      "metadata": {
        "id": "pf__V56m9FqC",
        "colab_type": "code",
        "colab": {}
      },
      "source": [
        "# https://github.com/Vanclief/algo-trading-crypto/blob/master/scripts/fetch_market_data.py\n",
        "\n",
        "import requests\n",
        "import argparse\n",
        "import pandas as pd\n",
        "\n",
        "def get_historical_hourly_price(\n",
        "        symbol,\n",
        "        comparison_symbol,\n",
        "        limit,\n",
        "        aggregate,\n",
        "        exchange=''):\n",
        "    \"\"\"\n",
        "    Get the historical OHCL of a certain symbol pair for a certain\n",
        "    exchange\n",
        "    \"\"\"\n",
        "    url = 'https://min-api.cryptocompare.com/data/histohour?fsym={}&tsym={}&limit={}&aggregate={}'\\\n",
        "            .format(symbol.upper(), comparison_symbol.upper(), limit, aggregate)\n",
        "\n",
        "    if exchange:\n",
        "        url += '&e={}'.format(exchange)\n",
        "\n",
        "    page = requests.get(url)\n",
        "    data = page.json()['Data']\n",
        "    data_frame = pd.DataFrame(data)\n",
        "    data_frame['mid'] = data_frame[[\"high\", \"low\"]].mean(axis=1)\n",
        "    data_frame = data_frame.set_index('time')\n",
        "\n",
        "    return data_frame\n"
      ],
      "execution_count": 0,
      "outputs": []
    },
    {
      "cell_type": "code",
      "metadata": {
        "id": "xlHFEHiEN8OQ",
        "colab_type": "code",
        "colab": {}
      },
      "source": [
        ""
      ],
      "execution_count": 0,
      "outputs": []
    }
  ]
}